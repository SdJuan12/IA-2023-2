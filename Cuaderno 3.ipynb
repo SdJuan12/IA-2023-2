{
 "cells": [
  {
   "cell_type": "markdown",
   "metadata": {},
   "source": [
    "# Ejemplos de entrenamiento para Redes Neuronales según el tipo de datos en Tensorflow"
   ]
  },
  {
   "cell_type": "markdown",
   "metadata": {},
   "source": [
    "### Datos de tipo Gausseano"
   ]
  },
  {
   "cell_type": "code",
   "execution_count": null,
   "metadata": {},
   "outputs": [],
   "source": [
    "import tensorflow as tf\n",
    "from tensorflow.keras import layers\n",
    "\n",
    "# Crear la red neuronal\n",
    "model = tf.keras.Sequential([\n",
    "    layers.Dense(10, input_shape=(2,), activation='relu'),  # Capa de entrada con función de activación ReLU\n",
    "    layers.Dense(1)  # Capa de salida\n",
    "])\n",
    "\n",
    "# Compilar el modelo\n",
    "model.compile(optimizer=tf.keras.optimizers.SGD(learning_rate=0.1),  # Tasa de aprendizaje de 0.1\n",
    "              loss=tf.keras.losses.MeanSquaredError())  # Pérdida de error cuadrático medio\n",
    "\n",
    "# Datos de entrada (x y y)\n",
    "x_train = [[1, 2], [3, 4], [5, 6], [7, 8]]\n",
    "y_train = [[3], [7], [11], [15]]\n",
    "\n",
    "# Entrenar el modelo\n",
    "model.fit(x_train, y_train, epochs=10)\n",
    "\n"
   ]
  },
  {
   "cell_type": "markdown",
   "metadata": {},
   "source": [
    "### Datos de tipo Nube de puntos"
   ]
  },
  {
   "cell_type": "code",
   "execution_count": null,
   "metadata": {},
   "outputs": [],
   "source": [
    "import tensorflow as tf\n",
    "from tensorflow.keras import layers\n",
    "\n",
    "# Crear la red neuronal\n",
    "model = tf.keras.Sequential([\n",
    "    layers.Dense(10, input_shape=(2,), activation='sigmoid'),  # Capa de entrada con función de activación sigmoide\n",
    "    layers.Dense(1)  # Capa de salida\n",
    "])\n",
    "\n",
    "# Compilar el modelo\n",
    "model.compile(optimizer=tf.keras.optimizers.SGD(learning_rate=0.1),  # Optimizador SGD con tasa de aprendizaje de 0.1\n",
    "              loss=tf.keras.losses.MeanSquaredError())  # Pérdida de error cuadrático medio\n",
    "\n",
    "# Datos de entrada (x^2 y y^2)\n",
    "x_train = [[1, 4], [4, 9], [9, 16], [16, 25]]\n",
    "y_train = [[5], [13], [25], [41]]\n",
    "\n",
    "# Entrenar el modelo\n",
    "model.fit(x_train, y_train, epochs=10)\n"
   ]
  },
  {
   "cell_type": "markdown",
   "metadata": {},
   "source": [
    "### Datos de tipo \"Exclusivo O\""
   ]
  },
  {
   "cell_type": "code",
   "execution_count": null,
   "metadata": {},
   "outputs": [],
   "source": [
    "import tensorflow as tf\n",
    "from tensorflow.keras import layers\n",
    "\n",
    "# Crear la red neuronal\n",
    "model = tf.keras.Sequential([\n",
    "    layers.Dense(10, input_shape=(1,), activation='relu'),  # Capa de entrada con función de activación ReLU\n",
    "    layers.Dense(1, activation='sigmoid')  # Capa de salida con función de activación sigmoide\n",
    "])\n",
    "\n",
    "# Compilar el modelo\n",
    "model.compile(optimizer=tf.keras.optimizers.SGD(learning_rate=0.1),  # Optimizador SGD con tasa de aprendizaje de 0.1\n",
    "              loss=tf.keras.losses.BinaryCrossentropy())  # Pérdida de entropía cruzada binaria\n",
    "\n",
    "# Datos de entrada (X*Y)\n",
    "x_train = [[0], [1], [1], [0]]\n",
    "y_train = [[0], [1], [1], [0]]\n",
    "\n",
    "# Entrenar el modelo\n",
    "model.fit(x_train, y_train, epochs=100)\n"
   ]
  }
 ],
 "metadata": {
  "kernelspec": {
   "display_name": "Python 3",
   "language": "python",
   "name": "python3"
  },
  "language_info": {
   "codemirror_mode": {
    "name": "ipython",
    "version": 3
   },
   "file_extension": ".py",
   "mimetype": "text/x-python",
   "name": "python",
   "nbconvert_exporter": "python",
   "pygments_lexer": "ipython3",
   "version": "3.11.5"
  },
  "orig_nbformat": 4
 },
 "nbformat": 4,
 "nbformat_minor": 2
}
